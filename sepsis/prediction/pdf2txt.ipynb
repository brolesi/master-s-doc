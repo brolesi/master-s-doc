{
 "cells": [
  {
   "cell_type": "code",
   "execution_count": 8,
   "metadata": {},
   "outputs": [
    {
     "name": "stdout",
     "output_type": "stream",
     "text": [
      "an_attention-based_bidirectional_lstm-cnn_architecture_for_the_early_prediction_of_sepsis.pdf\n",
      "an_interpretable_machine_learning_model_for_predicting_28-day_mortality_in_patients_with_sepsis-associated.pdf\n",
      "a_prediction_model_for_30-day_mortality_of_sepsis_patients_based_on_intravenous_fluids_and_electrolytes.pdf\n",
      "a_time_series_driven_model_for_early_sepsis_prediction_based_on_transformer_module_01.pdf\n",
      "development_of_a_nomogram_to_predict_30-day_mortality_of_sepsis_patients_with_gastrointestinal_bleeding_an_analysis_of_the_mimic-iv_database.pdf\n",
      "early_prediction_of_onset_of_sepsis_in_clinical_setting.pdf\n",
      "early_prediction_of_sepsis_using_time_series_forecasting_01.pdf\n",
      "early_sepsis_mortality_prediction_model_based_on_interpretable_machine_learning_approach_development_and_validation_study.pdf\n",
      "impact_of_a_deep_learning_sepsis_prediction_model_on_quality_of_care_and_survival.pdf\n",
      "machine-learning_models_for_prediction_of_sepsis_patients_mortality.pdf\n",
      "machine_learning-based_model_for_predicting_the_occurrence_and_mortality.pdf\n",
      "predico_de_sepse_em_unidade_de_terapia_intensiva_uma_abordagem_de_aprendizado_de_maquina.pdf\n",
      "predicting_30-days_mortality_for_mimic-iii_patients_with_sepsis-3_a_machine_learning_approach_using_xgboost.pdf\n",
      "predicting_sepsis_with_a_recurrent_neural_network_using_the_mimic_iii_database.pdf\n",
      "prediction_of_sepsis_in_the_intensive_care_unit_with_minimal_electronic_health_record_data.pdf\n",
      "prediction_of_sepsis_mortality_in_icu_patients_using_machine_learning_methods.pdf\n",
      "predictive_model_for_daily_risk_alerts_in_sepsis_patients_in_the_icu.pdf\n",
      "predictive_model_of_risk_factors_for_28‑day_mortality_in_patients_with_sepsis_or_sepsis‑associated_delirium_based_on_the_mimic‑iv_database.pdf\n",
      "PT3_A_Transformer-based_Model_for_Sepsis_Death_Risk_Prediction_via_Vital_Signs_Time_Series.pdf\n",
      "time-series_deep_learning_and_conformal_prediction_for_improved_sepsis_diagnosis_in_non-icu_hospitalized_patients_01.pdf\n",
      "Vital_Sign_Forecasting_for_Sepsis_Patients_in_ICUs.pdf\n",
      "xgboost-based_prediction_of_icu_mortality_in_sepsis-associated_acute.pdf\n"
     ]
    }
   ],
   "source": [
    "import os\n",
    "from PyPDF2 import PdfReader\n",
    "\n",
    "# Get all PDF files in current directory\n",
    "pdf_files = [f for f in os.listdir('.') if f.endswith('.pdf')]\n",
    "\n",
    "# Extract text from each PDF and store in list\n",
    "text_list = []\n",
    "for pdf in pdf_files:\n",
    "    print(pdf)\n",
    "    reader = PdfReader(pdf)\n",
    "    text = ''\n",
    "    for page in reader.pages:\n",
    "        text += page.extract_text()\n",
    "    text_list.append(text)"
   ]
  },
  {
   "cell_type": "code",
   "execution_count": null,
   "metadata": {},
   "outputs": [
    {
     "name": "stdout",
     "output_type": "stream",
     "text": [
      "Found repository URLs:\n",
      "Document 6: github.com/JINHXu/Early-\n",
      "Document 9: github.com/BboyT/sepsis\n",
      "Document 9: github.com/MIT-LCP\n",
      "Document 9: github.com/BboyT/sepsis\n"
     ]
    }
   ],
   "source": [
    "import re\n",
    "\n",
    "# Regular expressions for common code repository patterns\n",
    "repo_patterns = [\n",
    "    r'github\\.com/[a-zA-Z0-9-_./]+',  # GitHub URLs\n",
    "    r'bitbucket\\.org/[a-zA-Z0-9-_./]+',  # Bitbucket URLs\n",
    "    r'gitlab\\.com/[a-zA-Z0-9-_./]+',  # GitLab URLs\n",
    "    r'https?://(?:www\\.)?git\\.[a-zA-Z0-9-_./]+',  # Generic git URLs\n",
    "]\n",
    "\n",
    "# Combine patterns\n",
    "combined_pattern = '|'.join(repo_patterns)\n",
    "\n",
    "# Search through each text in text_list\n",
    "repo_urls = []\n",
    "for idx, text in enumerate(text_list):\n",
    "    matches = re.finditer(combined_pattern, text, re.IGNORECASE)\n",
    "    for match in matches:\n",
    "        repo_urls.append({\n",
    "            'document_index': idx,\n",
    "            'url': match.group(0)\n",
    "        })\n",
    "\n",
    "# Print results\n",
    "if repo_urls:\n",
    "    print(\"Found repository URLs:\")\n",
    "    for item in repo_urls:\n",
    "        print(f\"Document {item['document_index']}: {item['url']}\")\n",
    "else:\n",
    "    print(\"No code repository URLs found in the documents.\")"
   ]
  }
 ],
 "metadata": {
  "kernelspec": {
   "display_name": "finance",
   "language": "python",
   "name": "python3"
  },
  "language_info": {
   "codemirror_mode": {
    "name": "ipython",
    "version": 3
   },
   "file_extension": ".py",
   "mimetype": "text/x-python",
   "name": "python",
   "nbconvert_exporter": "python",
   "pygments_lexer": "ipython3",
   "version": "3.11.9"
  }
 },
 "nbformat": 4,
 "nbformat_minor": 2
}
